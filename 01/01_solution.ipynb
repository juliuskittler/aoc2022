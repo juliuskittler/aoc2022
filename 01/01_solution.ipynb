{
 "cells": [
  {
   "cell_type": "markdown",
   "id": "80ba4493",
   "metadata": {},
   "source": [
    "# Day 1"
   ]
  },
  {
   "cell_type": "code",
   "execution_count": null,
   "id": "1e8b846d",
   "metadata": {},
   "outputs": [],
   "source": [
    "from typing import List"
   ]
  },
  {
   "cell_type": "code",
   "execution_count": null,
   "id": "39f4aac0",
   "metadata": {},
   "outputs": [],
   "source": [
    "# Input data\n",
    "with open(\"01_input.txt\") as f:\n",
    "    inventory_list = f.read().splitlines() \n",
    "\n",
    "inventory_list"
   ]
  },
  {
   "cell_type": "markdown",
   "id": "c793f560",
   "metadata": {},
   "source": [
    "# Part 1\n",
    "\n",
    "O(n)"
   ]
  },
  {
   "cell_type": "code",
   "execution_count": null,
   "id": "0dfb814d",
   "metadata": {},
   "outputs": [],
   "source": [
    "def solution(inventory_list: List) -> int:\n",
    "    max_calories_per_elf = 0\n",
    "    calories_of_current_elf = 0\n",
    "    n = len(inventory_list)\n",
    "\n",
    "    # Iterate over each item in the inventory, summing up calories for each elf\n",
    "    for i, item in enumerate(inventory_list):\n",
    "        if len(item) > 0:\n",
    "            calories_of_current_elf += int(item)\n",
    "        elif len(item) == 0:\n",
    "            max_calories_per_elf = max(max_calories_per_elf, calories_of_current_elf)\n",
    "            calories_of_current_elf = 0\n",
    "            \n",
    "    # Check if the last elf has more inventory than the others\n",
    "    max_calories_per_elf = max(max_calories_per_elf, calories_of_current_elf)\n",
    "    calories_of_current_elf = 0\n",
    "            \n",
    "    return max_calories_per_elf"
   ]
  },
  {
   "cell_type": "code",
   "execution_count": null,
   "id": "cb0a7702",
   "metadata": {},
   "outputs": [],
   "source": [
    "solution(inventory_list) # correct: 67622"
   ]
  },
  {
   "cell_type": "markdown",
   "id": "ab63dd02",
   "metadata": {},
   "source": [
    "**Test cases**"
   ]
  },
  {
   "cell_type": "code",
   "execution_count": null,
   "id": "1527cf60",
   "metadata": {},
   "outputs": [],
   "source": [
    "inventory_list_test = [\"1\", \"2\", \"\", \"300\"]\n",
    "expected = 300\n",
    "assert solution(inventory_list_test) == expected"
   ]
  },
  {
   "cell_type": "code",
   "execution_count": null,
   "id": "007b7268",
   "metadata": {},
   "outputs": [],
   "source": [
    "inventory_list_test = [\"1\", \"2\", \"\"]\n",
    "expected = 3\n",
    "assert solution(inventory_list_test) == expected"
   ]
  },
  {
   "cell_type": "markdown",
   "id": "8191df9d",
   "metadata": {},
   "source": [
    "# Part 2\n",
    "\n",
    "O(n*k)"
   ]
  },
  {
   "cell_type": "code",
   "execution_count": null,
   "id": "9676c79c",
   "metadata": {},
   "outputs": [],
   "source": [
    "# Brute force\n",
    "def solution(inventory_list: List, top_k: int = 3) -> int:\n",
    "    \n",
    "    calories_of_top_k_elves = [0] * top_k\n",
    "    calories_of_current_elf = 0\n",
    "    \n",
    "    # Iterate over each item in the inventory, summing up calories for each elf\n",
    "    for item in inventory_list:\n",
    "        \n",
    "        if len(item) > 0:\n",
    "            calories_of_current_elf += int(item)\n",
    "        elif len(item) == 0:\n",
    "            smallest_calories_of_top_k_elves = min(calories_of_top_k_elves)\n",
    "            if calories_of_current_elf > smallest_calories_of_top_k_elves:\n",
    "                idx = calories_of_top_k_elves.index(smallest_calories_of_top_k_elves)\n",
    "                calories_of_top_k_elves[idx] = calories_of_current_elf\n",
    "            calories_of_current_elf = 0\n",
    "            \n",
    "    # Check if the last elf should be in the top 3\n",
    "    smallest_calories_of_top_k_elves = min(calories_of_top_k_elves)\n",
    "    if calories_of_current_elf > smallest_calories_of_top_k_elves:\n",
    "        idx = calories_of_top_k_elves.index(smallest_calories_of_top_k_elves)\n",
    "        calories_of_top_k_elves[idx] = calories_of_current_elf\n",
    "    \n",
    "    # Sum up the calories of the top 3 elves\n",
    "    total_calories_of_top_k_elves = sum(calories_of_top_k_elves)\n",
    "    return total_calories_of_top_k_elves"
   ]
  },
  {
   "cell_type": "code",
   "execution_count": null,
   "id": "b70033ef",
   "metadata": {},
   "outputs": [],
   "source": [
    "solution(inventory_list) # correct: 201491"
   ]
  },
  {
   "cell_type": "markdown",
   "id": "50e21de9",
   "metadata": {},
   "source": [
    "**Test cases**"
   ]
  },
  {
   "cell_type": "code",
   "execution_count": null,
   "id": "81d64099",
   "metadata": {},
   "outputs": [],
   "source": [
    "inventory_list_test = [\"1\", \"2\", \"\", \"300\"]\n",
    "expected = 303\n",
    "assert solution(inventory_list_test) == expected"
   ]
  },
  {
   "cell_type": "code",
   "execution_count": null,
   "id": "e01f4644",
   "metadata": {},
   "outputs": [],
   "source": [
    "inventory_list_test = [\"1\", \"2\", \"\", \"300\", \"\", \"1\", \"\", \"5\"]\n",
    "expected = 308\n",
    "assert solution(inventory_list_test) == expected"
   ]
  },
  {
   "cell_type": "code",
   "execution_count": null,
   "id": "19ece95f",
   "metadata": {},
   "outputs": [],
   "source": [
    "inventory_list_test = [\"1\", \"2\", \"\", \"300\", \"\", \"1\", \"\"]\n",
    "expected = 304\n",
    "assert solution(inventory_list_test) == expected"
   ]
  }
 ],
 "metadata": {
  "kernelspec": {
   "display_name": "Python 3 (ipykernel)",
   "language": "python",
   "name": "python3"
  },
  "language_info": {
   "codemirror_mode": {
    "name": "ipython",
    "version": 3
   },
   "file_extension": ".py",
   "mimetype": "text/x-python",
   "name": "python",
   "nbconvert_exporter": "python",
   "pygments_lexer": "ipython3",
   "version": "3.8.13"
  }
 },
 "nbformat": 4,
 "nbformat_minor": 5
}
