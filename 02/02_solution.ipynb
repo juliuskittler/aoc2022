{
 "cells": [
  {
   "cell_type": "markdown",
   "id": "80ba4493",
   "metadata": {},
   "source": [
    "# Day 2"
   ]
  },
  {
   "cell_type": "code",
   "execution_count": 1,
   "id": "1e8b846d",
   "metadata": {},
   "outputs": [],
   "source": [
    "from typing import List"
   ]
  },
  {
   "cell_type": "code",
   "execution_count": 2,
   "id": "39f4aac0",
   "metadata": {},
   "outputs": [],
   "source": [
    "# Input data\n",
    "with open(\"02_input.txt\") as f:\n",
    "    my_list = f.read().splitlines() \n",
    "    list_1  = [x[0] for x in my_list]\n",
    "    list_2  = [x[-1] for x in my_list]\n",
    "    "
   ]
  },
  {
   "cell_type": "markdown",
   "id": "c793f560",
   "metadata": {},
   "source": [
    "# Part 1\n",
    "\n",
    "O(n)"
   ]
  },
  {
   "cell_type": "code",
   "execution_count": 3,
   "id": "0dfb814d",
   "metadata": {},
   "outputs": [],
   "source": [
    "def solution(opponent: List, player: List) -> int:\n",
    "    # Check inputs\n",
    "    assert len(player) == len(opponent)\n",
    "    assert all([x in [\"A\", \"B\", \"C\"] for x in opponent])\n",
    "    assert all([x in [\"X\", \"Y\", \"Z\"] for x in player])\n",
    "\n",
    "    # Initialize useful variables\n",
    "    n = len(player)\n",
    "    base_score_dict = {\"X\": 1, \"Y\": 2, \"Z\": 3}\n",
    "    result_score_dict = {\n",
    "        \"A\": {\n",
    "            \"X\": 3, # draw (Rock, Rock)\n",
    "            \"Y\": 6, # win  (Rock, Paper) -> paper wins (you)\n",
    "            \"Z\": 0  # loss (Rock, Scissors) -> rock wins (opponent)\n",
    "        }, \n",
    "        \"B\": {\n",
    "            \"X\": 0, # loss (Paper, Rock) -> paper wins (opponent)\n",
    "            \"Y\": 3, # draw (Paper, Paper)\n",
    "            \"Z\": 6  # win  (Paper, Scissors) -> scissors wins (you)\n",
    "        }, \n",
    "        \"C\": {\n",
    "            \"X\": 6, # win (Scissors, Rock) -> rock wins (you)\n",
    "            \"Y\": 0, # loss (Scissors, Paper) -> scissors wins (opponent)\n",
    "            \"Z\": 3  # draw (Scissors, Scissors)\n",
    "        }\n",
    "    }\n",
    "    total_score = 0\n",
    "\n",
    "    # Iterate through all games, compute their scores and sum them up\n",
    "    for i in range(n):\n",
    "        \n",
    "        # Compute the score of the current game\n",
    "        result_score = result_score_dict[opponent[i]][player[i]]\n",
    "        base_score = base_score_dict[player[i]]\n",
    "        score = base_score + result_score\n",
    "        \n",
    "        # Compute the sum of the scores across all games\n",
    "        total_score += score\n",
    "\n",
    "    return total_score"
   ]
  },
  {
   "cell_type": "code",
   "execution_count": 4,
   "id": "cb0a7702",
   "metadata": {},
   "outputs": [
    {
     "data": {
      "text/plain": [
       "9241"
      ]
     },
     "execution_count": 4,
     "metadata": {},
     "output_type": "execute_result"
    }
   ],
   "source": [
    "solution(opponent=list_1, player=list_2) # correct: 9241"
   ]
  },
  {
   "cell_type": "markdown",
   "id": "ab63dd02",
   "metadata": {},
   "source": [
    "**Test cases**"
   ]
  },
  {
   "cell_type": "code",
   "execution_count": 5,
   "id": "1527cf60",
   "metadata": {},
   "outputs": [],
   "source": [
    "opponent = [\"A\", \"B\", \"C\"]\n",
    "player = [\"Y\", \"X\", \"Z\"]\n",
    "expected = 15 # (6+2) + (0+1) + (3+3)\n",
    "assert solution(opponent=opponent, player=player) == expected"
   ]
  },
  {
   "cell_type": "code",
   "execution_count": 6,
   "id": "007b7268",
   "metadata": {},
   "outputs": [],
   "source": [
    "opponent = [\"A\", \"B\", \"C\"]\n",
    "player = [\"X\", \"Y\", \"Z\"]\n",
    "expected = 15 # (3+1) + (3+2) + (3+3)\n",
    "assert solution(opponent=opponent, player=player) == expected"
   ]
  },
  {
   "cell_type": "code",
   "execution_count": 7,
   "id": "a8e50daa",
   "metadata": {},
   "outputs": [],
   "source": [
    "opponent = [\"A\", \"B\", \"C\"]\n",
    "player = [\"Z\", \"Z\", \"Z\"]\n",
    "expected = 18 # (6+3) + (0+3) + (3+3)\n",
    "assert solution(opponent=opponent, player=player) == expected"
   ]
  },
  {
   "cell_type": "markdown",
   "id": "8191df9d",
   "metadata": {},
   "source": [
    "# Part 2\n",
    "\n",
    "O(n)"
   ]
  },
  {
   "cell_type": "code",
   "execution_count": 8,
   "id": "9676c79c",
   "metadata": {},
   "outputs": [],
   "source": [
    "def solution(opponent: List, player: List) -> int:\n",
    "    # Check inputs\n",
    "    assert len(player) == len(opponent)\n",
    "    assert all([x in [\"A\", \"B\", \"C\"] for x in opponent])\n",
    "    assert all([x in [\"X\", \"Y\", \"Z\"] for x in player])\n",
    "\n",
    "    # Initialize useful variables\n",
    "    n = len(player)\n",
    "    result_score_dict = {\"X\": 0, \"Y\": 3, \"Z\": 6}\n",
    "    base_score_dict = {\n",
    "        \"A\": {\n",
    "            \"X\": 3, # Opponent plays rock, we need to loose -> Scissors (3)\n",
    "            \"Y\": 1, # Opponent plays rock, we need to draw -> Rock (1)\n",
    "            \"Z\": 2  # Opponent plays rock, we need to win -> Paper (2)\n",
    "        }, \n",
    "        \"B\": {\n",
    "            \"X\": 1, # Opponent plays paper, we need to loose -> Rock (1)\n",
    "            \"Y\": 2, # Opponent plays paper, we need to draw -> Paper (2)\n",
    "            \"Z\": 3  # Opponent plays paper, we need to win -> Scissors (3)\n",
    "        }, \n",
    "        \"C\": {\n",
    "            \"X\": 2, # Opponent plays scissors, we need to loose -> Paper (2)\n",
    "            \"Y\": 3, # Opponent plays scissors, we need to draw -> Scissors (3)\n",
    "            \"Z\": 1  # Opponent plays scissors, we need to win -> Rock (1)\n",
    "        }\n",
    "    }\n",
    "    total_score = 0\n",
    "\n",
    "    # Iterate through all games, compute their scores and sum them up\n",
    "    for i in range(n):\n",
    "        \n",
    "        # Compute the score of the current game\n",
    "        result_score = result_score_dict[player[i]]\n",
    "        base_score = base_score_dict[opponent[i]][player[i]] \n",
    "        score = base_score + result_score\n",
    "        \n",
    "        # Compute the sum of the scores across all games\n",
    "        total_score += score\n",
    "\n",
    "    return total_score"
   ]
  },
  {
   "cell_type": "code",
   "execution_count": 9,
   "id": "b70033ef",
   "metadata": {},
   "outputs": [
    {
     "data": {
      "text/plain": [
       "14610"
      ]
     },
     "execution_count": 9,
     "metadata": {},
     "output_type": "execute_result"
    }
   ],
   "source": [
    "solution(opponent=list_1, player=list_2) # correct: 9241"
   ]
  },
  {
   "cell_type": "markdown",
   "id": "50e21de9",
   "metadata": {},
   "source": [
    "**Test cases**"
   ]
  },
  {
   "cell_type": "code",
   "execution_count": 10,
   "id": "81d64099",
   "metadata": {},
   "outputs": [],
   "source": [
    "opponent = [\"A\", \"B\", \"C\"]\n",
    "player = [\"Y\", \"X\", \"Z\"]\n",
    "expected = 12\n",
    "assert solution(opponent=opponent, player=player) == expected"
   ]
  },
  {
   "cell_type": "code",
   "execution_count": 11,
   "id": "e01f4644",
   "metadata": {},
   "outputs": [],
   "source": [
    "opponent = [\"A\", \"B\", \"C\"]\n",
    "player = [\"X\", \"Y\", \"Z\"]\n",
    "expected = 15 # (0+3) + (3+2) + (6+1)\n",
    "assert solution(opponent=opponent, player=player) == expected"
   ]
  },
  {
   "cell_type": "code",
   "execution_count": 12,
   "id": "19ece95f",
   "metadata": {},
   "outputs": [],
   "source": [
    "opponent = [\"A\", \"B\", \"C\"]\n",
    "player = [\"Z\", \"Z\", \"Z\"]\n",
    "expected = 24 # (6+1) + (6+2) + (6+3)\n",
    "assert solution(opponent=opponent, player=player) == expected"
   ]
  }
 ],
 "metadata": {
  "kernelspec": {
   "display_name": "Python 3 (ipykernel)",
   "language": "python",
   "name": "python3"
  },
  "language_info": {
   "codemirror_mode": {
    "name": "ipython",
    "version": 3
   },
   "file_extension": ".py",
   "mimetype": "text/x-python",
   "name": "python",
   "nbconvert_exporter": "python",
   "pygments_lexer": "ipython3",
   "version": "3.8.13"
  }
 },
 "nbformat": 4,
 "nbformat_minor": 5
}
