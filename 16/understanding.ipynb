{
 "cells": [
  {
   "cell_type": "markdown",
   "id": "e6805f41",
   "metadata": {},
   "source": [
    "# Solution 1\n",
    "\n",
    "PS.: I don't know much about graphs, so I thought, let's visualize this :)"
   ]
  },
  {
   "cell_type": "code",
   "execution_count": 1,
   "id": "98b97598",
   "metadata": {},
   "outputs": [],
   "source": [
    "from utils import get_valve_info\n",
    "import pathlib\n",
    "import pyvis"
   ]
  },
  {
   "cell_type": "code",
   "execution_count": 2,
   "id": "6c356c58",
   "metadata": {},
   "outputs": [],
   "source": [
    "filepath = pathlib.Path(\"input.txt\")\n",
    "flow_rates, dest_valves, targ_valves = get_valve_info(filepath)"
   ]
  },
  {
   "cell_type": "code",
   "execution_count": 3,
   "id": "c66958f5",
   "metadata": {},
   "outputs": [
    {
     "data": {
      "text/plain": [
       "'GS'"
      ]
     },
     "execution_count": 3,
     "metadata": {},
     "output_type": "execute_result"
    }
   ],
   "source": [
    "# Print start\n",
    "dest_valves[0]"
   ]
  },
  {
   "cell_type": "code",
   "execution_count": 4,
   "id": "401f27b9",
   "metadata": {},
   "outputs": [],
   "source": [
    "# Dict that maps valve to flow rate\n",
    "fr_dict = {dv: fr for dv, fr in zip(dest_valves, flow_rates)}"
   ]
  },
  {
   "cell_type": "code",
   "execution_count": 5,
   "id": "7ee02e6a",
   "metadata": {},
   "outputs": [],
   "source": [
    "# Prepare nodes and edges\n",
    "nodes = [\"{} ({})\".format(dv, fr_dict[dv]) for dv in dest_valves]\n",
    "size = [fr+1 for fr in flow_rates]\n",
    "edges = []\n",
    "\n",
    "for i, dest_valve in enumerate(dest_valves):\n",
    "    for targ_valve in targ_valves[i]:\n",
    "        edges.append((\n",
    "            \"{} ({})\".format(dest_valve, fr_dict[dest_valve]), \n",
    "            \"{} ({})\".format(targ_valve, fr_dict[targ_valve])\n",
    "        ))"
   ]
  },
  {
   "cell_type": "code",
   "execution_count": 6,
   "id": "284dcffe",
   "metadata": {},
   "outputs": [
    {
     "name": "stdout",
     "output_type": "stream",
     "text": [
      "Local cdn resources have problems on chrome/safari when used in jupyter-notebook. \n"
     ]
    },
    {
     "data": {
      "text/html": [
       "\n",
       "        <iframe\n",
       "            width=\"100%\"\n",
       "            height=\"600px\"\n",
       "            src=\"net.html\"\n",
       "            frameborder=\"0\"\n",
       "            allowfullscreen\n",
       "            \n",
       "        ></iframe>\n",
       "        "
      ],
      "text/plain": [
       "<IPython.lib.display.IFrame at 0x7f8b04354430>"
      ]
     },
     "execution_count": 6,
     "metadata": {},
     "output_type": "execute_result"
    }
   ],
   "source": [
    "from pyvis.network import Network\n",
    "net = Network(notebook=True)\n",
    "net.add_node(nodes[0], nodes[0], size=size[0], title=nodes[0], color = \"red\")\n",
    "net.add_nodes(nodes[1:], size=size[1:])\n",
    "net.add_edges(edges)\n",
    "net.show(\"net.html\")"
   ]
  }
 ],
 "metadata": {
  "kernelspec": {
   "display_name": "Python 3 (ipykernel)",
   "language": "python",
   "name": "python3"
  },
  "language_info": {
   "codemirror_mode": {
    "name": "ipython",
    "version": 3
   },
   "file_extension": ".py",
   "mimetype": "text/x-python",
   "name": "python",
   "nbconvert_exporter": "python",
   "pygments_lexer": "ipython3",
   "version": "3.8.13"
  }
 },
 "nbformat": 4,
 "nbformat_minor": 5
}
