{
 "cells": [
  {
   "cell_type": "markdown",
   "id": "e6805f41",
   "metadata": {},
   "source": [
    "# Visualization"
   ]
  },
  {
   "cell_type": "code",
   "execution_count": 1,
   "id": "98b97598",
   "metadata": {},
   "outputs": [],
   "source": [
    "from utils import get_valve_info\n",
    "import pathlib\n",
    "import pyvis"
   ]
  },
  {
   "cell_type": "markdown",
   "id": "81e3aa22",
   "metadata": {},
   "source": [
    "## Test Input"
   ]
  },
  {
   "cell_type": "code",
   "execution_count": 2,
   "id": "b1c0abf7",
   "metadata": {},
   "outputs": [],
   "source": [
    "filepath = pathlib.Path(\"input_test_1.txt\")\n",
    "flow_rates, dest_valves, targ_valves = get_valve_info(filepath)"
   ]
  },
  {
   "cell_type": "code",
   "execution_count": 3,
   "id": "ec20e4d0",
   "metadata": {},
   "outputs": [],
   "source": [
    "# Dict that maps valve to flow rate\n",
    "fr_dict = {dv: fr for dv, fr in zip(dest_valves, flow_rates)}"
   ]
  },
  {
   "cell_type": "code",
   "execution_count": 4,
   "id": "6c858e23",
   "metadata": {},
   "outputs": [],
   "source": [
    "# Prepare nodes and edges\n",
    "nodes = [\"{} ({})\".format(dv, fr_dict[dv]) for dv in dest_valves if dv != \"AA\"]\n",
    "size = [fr+1 for fr, dv in zip(flow_rates, dest_valves) if dv != \"AA\"]\n",
    "edges = []\n",
    "\n",
    "for i, dest_valve in enumerate(dest_valves):\n",
    "    for targ_valve in targ_valves[i]:\n",
    "        edges.append((\n",
    "            \"{} ({})\".format(dest_valve, fr_dict[dest_valve]), \n",
    "            \"{} ({})\".format(targ_valve, fr_dict[targ_valve])\n",
    "        ))"
   ]
  },
  {
   "cell_type": "code",
   "execution_count": 5,
   "id": "25f15aeb",
   "metadata": {},
   "outputs": [
    {
     "name": "stdout",
     "output_type": "stream",
     "text": [
      "Local cdn resources have problems on chrome/safari when used in jupyter-notebook. \n"
     ]
    },
    {
     "data": {
      "text/html": [
       "\n",
       "        <iframe\n",
       "            width=\"100%\"\n",
       "            height=\"600px\"\n",
       "            src=\"net_input_test_1.html\"\n",
       "            frameborder=\"0\"\n",
       "            allowfullscreen\n",
       "            \n",
       "        ></iframe>\n",
       "        "
      ],
      "text/plain": [
       "<IPython.lib.display.IFrame at 0x7f06abb57be0>"
      ]
     },
     "execution_count": 5,
     "metadata": {},
     "output_type": "execute_result"
    }
   ],
   "source": [
    "from pyvis.network import Network\n",
    "net = Network(notebook=True)\n",
    "\n",
    "net.add_nodes(nodes, size=size)\n",
    "net.add_node(\"AA (0)\", \"AA (0)\", size=20, title=\"AA (0)\", color = \"red\")\n",
    "net.add_edges(edges)\n",
    "net.show(\"net_input_test_1.html\")"
   ]
  },
  {
   "cell_type": "markdown",
   "id": "f835cf22",
   "metadata": {},
   "source": [
    "## Puzzle Input"
   ]
  },
  {
   "cell_type": "code",
   "execution_count": 6,
   "id": "6c356c58",
   "metadata": {},
   "outputs": [],
   "source": [
    "filepath = pathlib.Path(\"input.txt\")\n",
    "flow_rates, dest_valves, targ_valves = get_valve_info(filepath)"
   ]
  },
  {
   "cell_type": "code",
   "execution_count": 7,
   "id": "401f27b9",
   "metadata": {},
   "outputs": [],
   "source": [
    "# Dict that maps valve to flow rate\n",
    "fr_dict = {dv: fr for dv, fr in zip(dest_valves, flow_rates)}"
   ]
  },
  {
   "cell_type": "code",
   "execution_count": 8,
   "id": "7ee02e6a",
   "metadata": {},
   "outputs": [],
   "source": [
    "# Prepare nodes and edges\n",
    "nodes = [\"{} ({})\".format(dv, fr_dict[dv]) for dv in dest_valves if dv != \"AA\"]\n",
    "size = [fr+1 for fr, dv in zip(flow_rates, dest_valves) if dv != \"AA\"]\n",
    "edges = []\n",
    "\n",
    "for i, dest_valve in enumerate(dest_valves):\n",
    "    for targ_valve in targ_valves[i]:\n",
    "        edges.append((\n",
    "            \"{} ({})\".format(dest_valve, fr_dict[dest_valve]), \n",
    "            \"{} ({})\".format(targ_valve, fr_dict[targ_valve])\n",
    "        ))"
   ]
  },
  {
   "cell_type": "code",
   "execution_count": 9,
   "id": "284dcffe",
   "metadata": {},
   "outputs": [
    {
     "name": "stdout",
     "output_type": "stream",
     "text": [
      "Local cdn resources have problems on chrome/safari when used in jupyter-notebook. \n"
     ]
    },
    {
     "data": {
      "text/html": [
       "\n",
       "        <iframe\n",
       "            width=\"100%\"\n",
       "            height=\"600px\"\n",
       "            src=\"net_input.html\"\n",
       "            frameborder=\"0\"\n",
       "            allowfullscreen\n",
       "            \n",
       "        ></iframe>\n",
       "        "
      ],
      "text/plain": [
       "<IPython.lib.display.IFrame at 0x7fe98c2d8430>"
      ]
     },
     "execution_count": 9,
     "metadata": {},
     "output_type": "execute_result"
    }
   ],
   "source": [
    "from pyvis.network import Network\n",
    "net = Network(notebook=True)\n",
    "net.add_nodes(nodes, size=size)\n",
    "net.add_node(\"AA (0)\", \"AA (0)\", size=20, title=\"AA (0)\", color = \"red\")\n",
    "net.add_edges(edges)\n",
    "net.show(\"net_input.html\")"
   ]
  }
 ],
 "metadata": {
  "kernelspec": {
   "display_name": "Python 3 (ipykernel)",
   "language": "python",
   "name": "python3"
  },
  "language_info": {
   "codemirror_mode": {
    "name": "ipython",
    "version": 3
   },
   "file_extension": ".py",
   "mimetype": "text/x-python",
   "name": "python",
   "nbconvert_exporter": "python",
   "pygments_lexer": "ipython3",
   "version": "3.8.13"
  }
 },
 "nbformat": 4,
 "nbformat_minor": 5
}
