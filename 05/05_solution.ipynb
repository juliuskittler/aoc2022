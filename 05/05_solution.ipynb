{
 "cells": [
  {
   "cell_type": "markdown",
   "id": "80ba4493",
   "metadata": {},
   "source": [
    "# Day 5"
   ]
  },
  {
   "cell_type": "code",
   "execution_count": 264,
   "id": "1e8b846d",
   "metadata": {},
   "outputs": [],
   "source": [
    "from typing import List, Tuple\n",
    "import copy\n",
    "import re"
   ]
  },
  {
   "cell_type": "code",
   "execution_count": 265,
   "id": "39f4aac0",
   "metadata": {},
   "outputs": [],
   "source": [
    "# Input data\n",
    "with open(\"05_input.txt\") as f:\n",
    "    my_input = f.read()#.splitlines()\n",
    "    \n",
    "    # Get instructions in list form\n",
    "    instructions_str = my_input.split(\"\\n\\n\")[1].splitlines()\n",
    "    instructions = [tuple(map(int, re.findall('[0-9]+', instr))) for instr in instructions_str]\n",
    "    \n",
    "    # Get stacks in list form\n",
    "    stacks_str = my_input.split(\"\\n\\n\")[0].split(\"\\n\")\n",
    "    col_indices = [(m.start(0), m.end(0)) for m in re.finditer(\"[0-9+]\", stacks_str[-1])]\n",
    "    row_indices = list(range(0, len(stacks_str)-1))\n",
    "    stacks = []\n",
    "    for col in col_indices:\n",
    "        new_stack = []\n",
    "        for row in range(0, len(stacks_str)-1):\n",
    "            value = stacks_str[row][col[0]:col[1]]\n",
    "            if value != \" \":\n",
    "                new_stack.append(value)\n",
    "        stacks.append(list(reversed(new_stack)))"
   ]
  },
  {
   "cell_type": "code",
   "execution_count": 266,
   "id": "cc3960b5",
   "metadata": {},
   "outputs": [
    {
     "data": {
      "text/plain": [
       "[(2, 7, 2),\n",
       " (1, 4, 8),\n",
       " (2, 1, 9),\n",
       " (4, 6, 5),\n",
       " (1, 7, 6),\n",
       " (2, 1, 4),\n",
       " (7, 8, 9),\n",
       " (7, 4, 5),\n",
       " (4, 2, 4),\n",
       " (1, 5, 9),\n",
       " (14, 5, 4),\n",
       " (1, 3, 8),\n",
       " (5, 4, 8),\n",
       " (1, 2, 5),\n",
       " (2, 4, 1),\n",
       " (6, 8, 1),\n",
       " (1, 8, 6),\n",
       " (1, 2, 5),\n",
       " (5, 3, 7),\n",
       " (2, 6, 3),\n",
       " (2, 4, 7),\n",
       " (3, 3, 9),\n",
       " (7, 4, 1),\n",
       " (1, 6, 9),\n",
       " (2, 6, 1),\n",
       " (3, 5, 2),\n",
       " (1, 1, 8),\n",
       " (21, 9, 1),\n",
       " (1, 4, 2),\n",
       " (7, 7, 2),\n",
       " (1, 4, 2),\n",
       " (23, 1, 5),\n",
       " (5, 5, 1),\n",
       " (1, 3, 6),\n",
       " (1, 6, 3),\n",
       " (12, 1, 6),\n",
       " (1, 3, 6),\n",
       " (2, 1, 8),\n",
       " (1, 9, 3),\n",
       " (2, 8, 1),\n",
       " (2, 1, 8),\n",
       " (1, 1, 3),\n",
       " (2, 3, 1),\n",
       " (2, 8, 1),\n",
       " (3, 6, 1),\n",
       " (1, 8, 7),\n",
       " (4, 6, 2),\n",
       " (3, 6, 9),\n",
       " (2, 5, 7),\n",
       " (2, 7, 8),\n",
       " (1, 7, 9),\n",
       " (9, 1, 5),\n",
       " (12, 5, 9),\n",
       " (1, 8, 6),\n",
       " (1, 6, 9),\n",
       " (1, 6, 9),\n",
       " (7, 9, 4),\n",
       " (10, 2, 1),\n",
       " (12, 5, 4),\n",
       " (7, 4, 9),\n",
       " (7, 4, 7),\n",
       " (1, 5, 4),\n",
       " (7, 7, 8),\n",
       " (1, 6, 3),\n",
       " (1, 3, 1),\n",
       " (3, 2, 4),\n",
       " (1, 6, 8),\n",
       " (7, 1, 2),\n",
       " (1, 6, 7),\n",
       " (12, 9, 4),\n",
       " (3, 8, 5),\n",
       " (1, 7, 3),\n",
       " (6, 9, 1),\n",
       " (10, 1, 9),\n",
       " (7, 9, 5),\n",
       " (3, 9, 5),\n",
       " (1, 3, 4),\n",
       " (2, 2, 1),\n",
       " (1, 5, 1),\n",
       " (9, 4, 3),\n",
       " (1, 1, 3),\n",
       " (8, 4, 7),\n",
       " (7, 5, 3),\n",
       " (2, 7, 2),\n",
       " (8, 3, 9),\n",
       " (1, 1, 8),\n",
       " (10, 2, 3),\n",
       " (4, 8, 7),\n",
       " (12, 3, 4),\n",
       " (9, 7, 2),\n",
       " (2, 1, 3),\n",
       " (1, 9, 6),\n",
       " (2, 4, 9),\n",
       " (1, 7, 6),\n",
       " (5, 5, 9),\n",
       " (8, 3, 1),\n",
       " (2, 6, 3),\n",
       " (14, 4, 3),\n",
       " (15, 3, 9),\n",
       " (1, 3, 1),\n",
       " (3, 9, 8),\n",
       " (1, 8, 1),\n",
       " (1, 3, 2),\n",
       " (5, 2, 8),\n",
       " (1, 4, 2),\n",
       " (2, 1, 3),\n",
       " (2, 3, 9),\n",
       " (3, 2, 4),\n",
       " (6, 1, 8),\n",
       " (2, 2, 6),\n",
       " (1, 6, 4),\n",
       " (2, 4, 7),\n",
       " (5, 8, 5),\n",
       " (1, 6, 9),\n",
       " (7, 9, 6),\n",
       " (1, 5, 3),\n",
       " (2, 7, 8),\n",
       " (2, 2, 4),\n",
       " (3, 5, 6),\n",
       " (1, 3, 8),\n",
       " (1, 5, 6),\n",
       " (2, 4, 1),\n",
       " (3, 1, 6),\n",
       " (21, 9, 5),\n",
       " (1, 4, 3),\n",
       " (1, 4, 9),\n",
       " (2, 9, 2),\n",
       " (1, 3, 9),\n",
       " (4, 2, 3),\n",
       " (3, 8, 1),\n",
       " (14, 5, 9),\n",
       " (7, 5, 4),\n",
       " (3, 8, 4),\n",
       " (4, 3, 2),\n",
       " (3, 8, 5),\n",
       " (1, 2, 3),\n",
       " (1, 5, 1),\n",
       " (2, 5, 4),\n",
       " (3, 2, 9),\n",
       " (11, 4, 1),\n",
       " (17, 9, 2),\n",
       " (17, 2, 9),\n",
       " (10, 9, 2),\n",
       " (2, 8, 2),\n",
       " (3, 8, 3),\n",
       " (8, 9, 7),\n",
       " (4, 7, 3),\n",
       " (2, 3, 2),\n",
       " (3, 2, 3),\n",
       " (9, 3, 5),\n",
       " (1, 1, 9),\n",
       " (8, 5, 1),\n",
       " (2, 7, 9),\n",
       " (24, 1, 3),\n",
       " (24, 3, 6),\n",
       " (1, 5, 3),\n",
       " (10, 2, 1),\n",
       " (1, 4, 5),\n",
       " (3, 9, 1),\n",
       " (1, 3, 5),\n",
       " (17, 6, 5),\n",
       " (1, 7, 4),\n",
       " (13, 5, 4),\n",
       " (3, 5, 8),\n",
       " (1, 7, 9),\n",
       " (3, 6, 9),\n",
       " (8, 6, 4),\n",
       " (1, 9, 6),\n",
       " (11, 1, 8),\n",
       " (1, 5, 6),\n",
       " (12, 4, 9),\n",
       " (2, 5, 1),\n",
       " (1, 1, 7),\n",
       " (5, 9, 2),\n",
       " (1, 7, 9),\n",
       " (3, 1, 5),\n",
       " (3, 5, 9),\n",
       " (7, 9, 3),\n",
       " (4, 9, 6),\n",
       " (3, 6, 8),\n",
       " (5, 4, 3),\n",
       " (2, 2, 6),\n",
       " (3, 9, 3),\n",
       " (3, 6, 4),\n",
       " (4, 2, 6),\n",
       " (11, 3, 5),\n",
       " (11, 6, 9),\n",
       " (2, 3, 5),\n",
       " (1, 5, 8),\n",
       " (3, 6, 2),\n",
       " (7, 9, 2),\n",
       " (8, 5, 7),\n",
       " (6, 4, 5),\n",
       " (2, 4, 3),\n",
       " (1, 8, 6),\n",
       " (4, 8, 3),\n",
       " (13, 8, 3),\n",
       " (1, 9, 5),\n",
       " (6, 7, 2),\n",
       " (1, 7, 6),\n",
       " (1, 6, 5),\n",
       " (2, 6, 7),\n",
       " (13, 3, 5),\n",
       " (6, 2, 7),\n",
       " (1, 6, 1),\n",
       " (1, 2, 8),\n",
       " (2, 7, 8),\n",
       " (14, 5, 8),\n",
       " (1, 1, 4),\n",
       " (9, 2, 1),\n",
       " (14, 8, 7),\n",
       " (3, 3, 9),\n",
       " (11, 5, 3),\n",
       " (1, 4, 5),\n",
       " (4, 9, 8),\n",
       " (4, 8, 7),\n",
       " (5, 3, 9),\n",
       " (11, 7, 8),\n",
       " (9, 1, 3),\n",
       " (4, 3, 2),\n",
       " (6, 8, 4),\n",
       " (2, 8, 2),\n",
       " (13, 3, 6),\n",
       " (1, 4, 1),\n",
       " (5, 4, 2),\n",
       " (10, 2, 6),\n",
       " (4, 9, 1),\n",
       " (8, 7, 8),\n",
       " (10, 8, 5),\n",
       " (2, 3, 2),\n",
       " (2, 8, 6),\n",
       " (1, 7, 1),\n",
       " (2, 7, 6),\n",
       " (2, 2, 9),\n",
       " (2, 8, 6),\n",
       " (6, 1, 7),\n",
       " (5, 9, 1),\n",
       " (4, 7, 8),\n",
       " (1, 7, 2),\n",
       " (2, 1, 7),\n",
       " (1, 3, 8),\n",
       " (1, 1, 6),\n",
       " (2, 2, 6),\n",
       " (1, 7, 8),\n",
       " (1, 1, 9),\n",
       " (8, 5, 7),\n",
       " (2, 7, 9),\n",
       " (9, 6, 3),\n",
       " (13, 6, 8),\n",
       " (3, 9, 1),\n",
       " (5, 6, 1),\n",
       " (3, 8, 1),\n",
       " (3, 3, 4),\n",
       " (1, 4, 3),\n",
       " (1, 4, 8),\n",
       " (4, 6, 3),\n",
       " (11, 8, 2),\n",
       " (1, 6, 9),\n",
       " (8, 3, 9),\n",
       " (3, 5, 8),\n",
       " (4, 1, 2),\n",
       " (6, 8, 5),\n",
       " (6, 5, 1),\n",
       " (5, 1, 3),\n",
       " (3, 3, 4),\n",
       " (3, 8, 4),\n",
       " (2, 4, 5),\n",
       " (10, 7, 8),\n",
       " (5, 9, 2),\n",
       " (1, 7, 5),\n",
       " (3, 5, 2),\n",
       " (4, 9, 3),\n",
       " (4, 1, 5),\n",
       " (1, 3, 2),\n",
       " (3, 5, 2),\n",
       " (6, 2, 5),\n",
       " (10, 8, 3),\n",
       " (4, 4, 5),\n",
       " (4, 2, 8),\n",
       " (12, 3, 8),\n",
       " (1, 1, 3),\n",
       " (9, 8, 6),\n",
       " (1, 4, 1),\n",
       " (6, 8, 7),\n",
       " (3, 1, 7),\n",
       " (9, 5, 7),\n",
       " (11, 7, 2),\n",
       " (2, 7, 3),\n",
       " (9, 2, 7),\n",
       " (1, 8, 7),\n",
       " (1, 5, 2),\n",
       " (2, 6, 2),\n",
       " (2, 1, 2),\n",
       " (6, 3, 5),\n",
       " (2, 3, 6),\n",
       " (4, 7, 3),\n",
       " (3, 3, 1),\n",
       " (2, 1, 5),\n",
       " (7, 7, 6),\n",
       " (1, 1, 5),\n",
       " (3, 2, 4),\n",
       " (1, 3, 2),\n",
       " (18, 2, 1),\n",
       " (4, 2, 7),\n",
       " (6, 5, 9),\n",
       " (1, 4, 8),\n",
       " (2, 6, 1),\n",
       " (19, 1, 2),\n",
       " (4, 9, 5),\n",
       " (5, 7, 2),\n",
       " (1, 8, 7),\n",
       " (1, 1, 2),\n",
       " (6, 5, 7),\n",
       " (1, 3, 8),\n",
       " (6, 7, 6),\n",
       " (1, 4, 1),\n",
       " (4, 7, 9),\n",
       " (1, 1, 3),\n",
       " (1, 2, 5),\n",
       " (1, 4, 8),\n",
       " (1, 3, 4),\n",
       " (3, 5, 4),\n",
       " (2, 8, 9),\n",
       " (9, 2, 4),\n",
       " (19, 6, 4),\n",
       " (1, 4, 7),\n",
       " (5, 9, 5),\n",
       " (10, 2, 9),\n",
       " (2, 5, 4),\n",
       " (14, 4, 7),\n",
       " (2, 2, 1),\n",
       " (3, 9, 1),\n",
       " (1, 1, 3),\n",
       " (13, 7, 6),\n",
       " (1, 5, 9),\n",
       " (1, 6, 9),\n",
       " (1, 7, 2),\n",
       " (5, 9, 7),\n",
       " (1, 5, 2),\n",
       " (3, 7, 3),\n",
       " (3, 4, 9),\n",
       " (1, 5, 2),\n",
       " (4, 4, 2),\n",
       " (2, 7, 3),\n",
       " (4, 1, 6),\n",
       " (1, 7, 9),\n",
       " (11, 9, 5),\n",
       " (8, 2, 9),\n",
       " (6, 9, 6),\n",
       " (8, 4, 5),\n",
       " (14, 5, 6),\n",
       " (1, 5, 4),\n",
       " (3, 5, 1),\n",
       " (1, 5, 2),\n",
       " (2, 6, 4),\n",
       " (2, 4, 2),\n",
       " (1, 9, 2),\n",
       " (1, 2, 3),\n",
       " (1, 9, 3),\n",
       " (3, 2, 7),\n",
       " (7, 6, 7),\n",
       " (5, 4, 3),\n",
       " (23, 6, 1),\n",
       " (5, 7, 2),\n",
       " (22, 1, 6),\n",
       " (6, 6, 3),\n",
       " (6, 2, 4),\n",
       " (6, 4, 1),\n",
       " (3, 7, 8),\n",
       " (3, 1, 8),\n",
       " (4, 3, 2),\n",
       " (1, 1, 3),\n",
       " (3, 3, 1),\n",
       " (1, 7, 5),\n",
       " (1, 6, 5),\n",
       " (1, 7, 4),\n",
       " (4, 6, 9),\n",
       " (5, 3, 6),\n",
       " (2, 2, 1),\n",
       " (3, 9, 4),\n",
       " (11, 1, 9),\n",
       " (2, 4, 7),\n",
       " (4, 6, 1),\n",
       " (1, 5, 4),\n",
       " (5, 8, 9),\n",
       " (1, 7, 1),\n",
       " (3, 2, 7),\n",
       " (4, 1, 2),\n",
       " (3, 4, 2),\n",
       " (1, 8, 5),\n",
       " (1, 5, 4),\n",
       " (1, 5, 4),\n",
       " (5, 6, 1),\n",
       " (3, 7, 6),\n",
       " (5, 2, 8),\n",
       " (15, 9, 2),\n",
       " (1, 3, 9),\n",
       " (10, 6, 8),\n",
       " (1, 4, 9),\n",
       " (1, 8, 3),\n",
       " (1, 4, 6),\n",
       " (4, 6, 3),\n",
       " (2, 9, 7),\n",
       " (1, 7, 6),\n",
       " (1, 1, 6),\n",
       " (3, 3, 8),\n",
       " (2, 7, 8),\n",
       " (3, 8, 4),\n",
       " (12, 2, 9),\n",
       " (14, 9, 5),\n",
       " (12, 8, 2),\n",
       " (1, 6, 7),\n",
       " (8, 3, 1),\n",
       " (2, 4, 6),\n",
       " (1, 3, 6),\n",
       " (5, 6, 1),\n",
       " (17, 1, 2),\n",
       " (29, 2, 1),\n",
       " (1, 8, 5),\n",
       " (1, 4, 3),\n",
       " (1, 8, 5),\n",
       " (1, 8, 7),\n",
       " (5, 2, 1),\n",
       " (1, 3, 5),\n",
       " (1, 6, 4),\n",
       " (6, 5, 8),\n",
       " (1, 4, 9),\n",
       " (1, 7, 2),\n",
       " (1, 2, 6),\n",
       " (7, 8, 7),\n",
       " (1, 6, 9),\n",
       " (2, 9, 2),\n",
       " (2, 2, 8),\n",
       " (15, 1, 2),\n",
       " (2, 8, 3),\n",
       " (9, 1, 2),\n",
       " (24, 2, 7),\n",
       " (11, 1, 2),\n",
       " (1, 3, 1),\n",
       " (22, 7, 6),\n",
       " (6, 5, 2),\n",
       " (2, 6, 5),\n",
       " (1, 1, 9),\n",
       " (1, 9, 6),\n",
       " (6, 5, 1),\n",
       " (12, 6, 2),\n",
       " (3, 1, 5),\n",
       " (1, 3, 2),\n",
       " (25, 2, 6),\n",
       " (4, 7, 5),\n",
       " (8, 5, 4),\n",
       " (4, 4, 8),\n",
       " (1, 1, 8),\n",
       " (5, 8, 4),\n",
       " (4, 4, 1),\n",
       " (2, 1, 9),\n",
       " (20, 6, 8),\n",
       " (4, 2, 6),\n",
       " (19, 8, 7),\n",
       " (2, 9, 3),\n",
       " (1, 8, 2),\n",
       " (11, 6, 7),\n",
       " (3, 1, 2),\n",
       " (5, 4, 3),\n",
       " (1, 1, 3),\n",
       " (1, 3, 5),\n",
       " (2, 2, 8),\n",
       " (33, 7, 3),\n",
       " (1, 5, 3),\n",
       " (1, 8, 7),\n",
       " (1, 7, 4),\n",
       " (5, 6, 8),\n",
       " (2, 7, 6),\n",
       " (2, 2, 3),\n",
       " (1, 2, 5),\n",
       " (1, 7, 9),\n",
       " (1, 5, 7),\n",
       " (1, 8, 2),\n",
       " (1, 4, 3),\n",
       " (43, 3, 7),\n",
       " (1, 3, 8),\n",
       " (1, 6, 8),\n",
       " (8, 7, 5),\n",
       " (3, 5, 3),\n",
       " (1, 6, 4),\n",
       " (2, 6, 7),\n",
       " (4, 8, 7),\n",
       " (3, 3, 2),\n",
       " (1, 9, 6),\n",
       " (3, 8, 3),\n",
       " (1, 6, 7),\n",
       " (1, 4, 6),\n",
       " (1, 3, 7),\n",
       " (1, 3, 2),\n",
       " (5, 2, 5),\n",
       " (1, 6, 1),\n",
       " (1, 3, 2),\n",
       " (42, 7, 5),\n",
       " (44, 5, 4),\n",
       " (2, 5, 8),\n",
       " (1, 7, 3),\n",
       " (16, 4, 6),\n",
       " (3, 5, 9)]"
      ]
     },
     "execution_count": 266,
     "metadata": {},
     "output_type": "execute_result"
    }
   ],
   "source": [
    "# (how many, from, to)\n",
    "instructions"
   ]
  },
  {
   "cell_type": "code",
   "execution_count": 267,
   "id": "cba6a385",
   "metadata": {},
   "outputs": [
    {
     "data": {
      "text/plain": [
       "[['H', 'T', 'Z', 'D'],\n",
       " ['Q', 'R', 'W', 'T', 'G', 'C', 'S'],\n",
       " ['P', 'B', 'F', 'Q', 'N', 'R', 'C', 'H'],\n",
       " ['L', 'C', 'N', 'F', 'H', 'Z'],\n",
       " ['G', 'L', 'F', 'Q', 'S'],\n",
       " ['V', 'P', 'W', 'Z', 'B', 'R', 'C', 'S'],\n",
       " ['Z', 'F', 'J'],\n",
       " ['D', 'L', 'V', 'Z', 'R', 'H', 'Q'],\n",
       " ['B', 'H', 'G', 'N', 'F', 'Z', 'L', 'D']]"
      ]
     },
     "execution_count": 267,
     "metadata": {},
     "output_type": "execute_result"
    }
   ],
   "source": [
    "# each list is a stack ordered from top to bottom\n",
    "stacks"
   ]
  },
  {
   "cell_type": "markdown",
   "id": "c793f560",
   "metadata": {},
   "source": [
    "# Part 1"
   ]
  },
  {
   "cell_type": "code",
   "execution_count": 268,
   "id": "0dfb814d",
   "metadata": {},
   "outputs": [],
   "source": [
    "def solution(instructions: List[Tuple], stacks: List[List]) -> int:\n",
    "    # Iterate over instructions and adjust the stacks accordingly\n",
    "    for instruction in instructions:\n",
    "        how_many, from_stack, to_stack = instruction\n",
    "        for i in range(how_many):\n",
    "            crate = stacks[from_stack-1].pop()\n",
    "            stacks[to_stack-1].append(crate)\n",
    "    \n",
    "    # Get the top crates of each stack as a string\n",
    "    crates_on_top = \"\".join([stack[-1] if len(stack) > 0 else \"\" for stack in stacks])\n",
    "    return crates_on_top"
   ]
  },
  {
   "cell_type": "code",
   "execution_count": 269,
   "id": "cb0a7702",
   "metadata": {},
   "outputs": [
    {
     "data": {
      "text/plain": [
       "'RFFFWBPNS'"
      ]
     },
     "execution_count": 269,
     "metadata": {},
     "output_type": "execute_result"
    }
   ],
   "source": [
    "solution(instructions=copy.deepcopy(instructions), stacks=copy.deepcopy(stacks)) # correct: RFFFWBPNS"
   ]
  },
  {
   "cell_type": "markdown",
   "id": "ab63dd02",
   "metadata": {},
   "source": [
    "**Test cases**"
   ]
  },
  {
   "cell_type": "code",
   "execution_count": 270,
   "id": "1527cf60",
   "metadata": {},
   "outputs": [
    {
     "data": {
      "text/plain": [
       "'CMZ'"
      ]
     },
     "execution_count": 270,
     "metadata": {},
     "output_type": "execute_result"
    }
   ],
   "source": [
    "instructions_test = [\n",
    "    (1, 2, 1), \n",
    "    (3, 1, 3),\n",
    "    (2, 2, 1),\n",
    "    (1, 1, 2)\n",
    "]\n",
    "stacks_test = [\n",
    "    [\"Z\", \"N\"],\n",
    "    [\"M\", \"C\", \"D\"],\n",
    "    [\"P\"]\n",
    "]\n",
    "solution(instructions=instructions_test, stacks=stacks_test) # correct: 471"
   ]
  },
  {
   "cell_type": "markdown",
   "id": "8191df9d",
   "metadata": {},
   "source": [
    "# Part 2"
   ]
  },
  {
   "cell_type": "code",
   "execution_count": 271,
   "id": "9676c79c",
   "metadata": {},
   "outputs": [],
   "source": [
    "def solution(instructions: List[Tuple], stacks: List[List]) -> int:\n",
    "    # Iterate over instructions and adjust the stacks accordingly\n",
    "    for instruction in instructions:\n",
    "        how_many, from_stack, to_stack = instruction\n",
    "        \n",
    "        # Update the to-stack (as we are adding elements)\n",
    "        stacks[to_stack-1].extend(stacks[from_stack-1][(-how_many):])\n",
    "        \n",
    "        # Update the from-stack (as we are removing elements)\n",
    "        stacks[from_stack-1] = stacks[from_stack-1][:(-how_many)]\n",
    "        #print(stacks)\n",
    "        \n",
    "    # Get the top crates of each stack as a string\n",
    "    crates_on_top = \"\".join([stack[-1] if len(stack) > 0 else \"\" for stack in stacks])\n",
    "    return crates_on_top"
   ]
  },
  {
   "cell_type": "code",
   "execution_count": 272,
   "id": "c3f7a2b8",
   "metadata": {},
   "outputs": [
    {
     "data": {
      "text/plain": [
       "'CQQBBJFCS'"
      ]
     },
     "execution_count": 272,
     "metadata": {},
     "output_type": "execute_result"
    }
   ],
   "source": [
    "solution(instructions=copy.deepcopy(instructions), stacks=copy.deepcopy(stacks)) # correct: CQQBBJFCS"
   ]
  },
  {
   "cell_type": "markdown",
   "id": "50e21de9",
   "metadata": {},
   "source": [
    "**Test cases**"
   ]
  },
  {
   "cell_type": "code",
   "execution_count": 273,
   "id": "81d64099",
   "metadata": {},
   "outputs": [
    {
     "data": {
      "text/plain": [
       "'MCD'"
      ]
     },
     "execution_count": 273,
     "metadata": {},
     "output_type": "execute_result"
    }
   ],
   "source": [
    "instructions_test = [\n",
    "    (1, 2, 1), \n",
    "    (3, 1, 3),\n",
    "    (2, 2, 1),\n",
    "    (1, 1, 2)\n",
    "]\n",
    "stacks_test = [\n",
    "    [\"Z\", \"N\"],\n",
    "    [\"M\", \"C\", \"D\"],\n",
    "    [\"P\"]\n",
    "]\n",
    "solution(instructions=instructions_test, stacks=stacks_test) # correct: 471"
   ]
  },
  {
   "cell_type": "markdown",
   "id": "11b96620",
   "metadata": {},
   "source": [
    "# Sandbox"
   ]
  },
  {
   "cell_type": "code",
   "execution_count": 102,
   "id": "eadd6dbb",
   "metadata": {},
   "outputs": [],
   "source": [
    "# Input data\n",
    "with open(\"05_input.txt\") as f:\n",
    "    my_input = f.read()#.splitlines()\n",
    "\n",
    "    instructions_str = my_input.split(\"\\n\\n\")[1].splitlines()\n",
    "    instructions = [tuple(map(int, re.findall('[0-9]+', instr))) for instr in instructions_str]\n",
    "\n",
    "    stacks_str = my_input.split(\"\\n\\n\")[0]"
   ]
  },
  {
   "cell_type": "code",
   "execution_count": 103,
   "id": "1ccb4bf6",
   "metadata": {},
   "outputs": [
    {
     "data": {
      "text/plain": [
       "['        [H]         [S]         [D]',\n",
       " '    [S] [C]         [C]     [Q] [L]',\n",
       " '    [C] [R] [Z]     [R]     [H] [Z]',\n",
       " '    [G] [N] [H] [S] [B]     [R] [F]',\n",
       " '[D] [T] [Q] [F] [Q] [Z]     [Z] [N]',\n",
       " '[Z] [W] [F] [N] [F] [W] [J] [V] [G]',\n",
       " '[T] [R] [B] [C] [L] [P] [F] [L] [H]',\n",
       " '[H] [Q] [P] [L] [G] [V] [Z] [D] [B]',\n",
       " ' 1   2   3   4   5   6   7   8   9 ']"
      ]
     },
     "execution_count": 103,
     "metadata": {},
     "output_type": "execute_result"
    }
   ],
   "source": [
    "stacks_str = my_input.split(\"\\n\\n\")[0].split(\"\\n\")\n",
    "stacks_str"
   ]
  },
  {
   "cell_type": "code",
   "execution_count": 104,
   "id": "1d1b1118",
   "metadata": {},
   "outputs": [
    {
     "data": {
      "text/plain": [
       "[(1, 2),\n",
       " (5, 6),\n",
       " (9, 10),\n",
       " (13, 14),\n",
       " (17, 18),\n",
       " (21, 22),\n",
       " (25, 26),\n",
       " (29, 30),\n",
       " (33, 34)]"
      ]
     },
     "execution_count": 104,
     "metadata": {},
     "output_type": "execute_result"
    }
   ],
   "source": [
    "# Indices of digits (and also letters due to the same structure) of each row string\n",
    "col_indices = [(m.start(0), m.end(0)) for m in re.finditer(\"[0-9+]\", stacks_str[-1])]\n",
    "col_indices"
   ]
  },
  {
   "cell_type": "code",
   "execution_count": 105,
   "id": "7d997bc9",
   "metadata": {},
   "outputs": [
    {
     "data": {
      "text/plain": [
       "[['D', 'Z', 'T', 'H'],\n",
       " ['S', 'C', 'G', 'T', 'W', 'R', 'Q'],\n",
       " ['H', 'C', 'R', 'N', 'Q', 'F', 'B', 'P'],\n",
       " ['Z', 'H', 'F', 'N', 'C', 'L'],\n",
       " ['S', 'Q', 'F', 'L', 'G'],\n",
       " ['S', 'C', 'R', 'B', 'Z', 'W', 'P', 'V'],\n",
       " ['J', 'F', 'Z'],\n",
       " ['Q', 'H', 'R', 'Z', 'V', 'L', 'D'],\n",
       " ['D', 'L', 'Z', 'F', 'N', 'G', 'H', 'B']]"
      ]
     },
     "execution_count": 105,
     "metadata": {},
     "output_type": "execute_result"
    }
   ],
   "source": [
    "stacks = []\n",
    "for col in col_indices:\n",
    "    new_stack = []\n",
    "    for row in range(0, len(stacks_str)-1):\n",
    "        value = stacks_str[row][col[0]:col[1]]\n",
    "        if value != \" \":\n",
    "            new_stack.append(value)\n",
    "    stacks.append(new_stack)\n",
    "stacks"
   ]
  },
  {
   "cell_type": "markdown",
   "id": "c25279ed",
   "metadata": {},
   "source": [
    "**Notes**"
   ]
  },
  {
   "cell_type": "code",
   "execution_count": 106,
   "id": "22e43b20",
   "metadata": {},
   "outputs": [
    {
     "data": {
      "text/plain": [
       "2"
      ]
     },
     "execution_count": 106,
     "metadata": {},
     "output_type": "execute_result"
    }
   ],
   "source": [
    "# Alternative option\n",
    "s = \"move 2 from 7.1 to 999999999999999\"\n",
    "int(re.search(r'move (.*?) from', s).group(1))"
   ]
  },
  {
   "cell_type": "code",
   "execution_count": 107,
   "id": "f37047a5",
   "metadata": {},
   "outputs": [
    {
     "data": {
      "text/plain": [
       "['2', '7', '1', '999999999999999']"
      ]
     },
     "execution_count": 107,
     "metadata": {},
     "output_type": "execute_result"
    }
   ],
   "source": [
    "# Alternative option\n",
    "s = \"move 2 from 7.1 to 999999999999999\"\n",
    "re.findall(r'\\d+', s) # find all numeric values"
   ]
  },
  {
   "cell_type": "code",
   "execution_count": 108,
   "id": "e93d8e04",
   "metadata": {},
   "outputs": [
    {
     "data": {
      "text/plain": [
       "['2', '7', '1', '999999999999999']"
      ]
     },
     "execution_count": 108,
     "metadata": {},
     "output_type": "execute_result"
    }
   ],
   "source": [
    "# Alternative option\n",
    "s = \"move 2 from 7.1 to 999999999999999\"\n",
    "re.findall('[0-9]+', s) # find all integer values"
   ]
  },
  {
   "cell_type": "code",
   "execution_count": null,
   "id": "c4a0016a",
   "metadata": {},
   "outputs": [],
   "source": []
  }
 ],
 "metadata": {
  "kernelspec": {
   "display_name": "Python 3 (ipykernel)",
   "language": "python",
   "name": "python3"
  },
  "language_info": {
   "codemirror_mode": {
    "name": "ipython",
    "version": 3
   },
   "file_extension": ".py",
   "mimetype": "text/x-python",
   "name": "python",
   "nbconvert_exporter": "python",
   "pygments_lexer": "ipython3",
   "version": "3.8.13"
  }
 },
 "nbformat": 4,
 "nbformat_minor": 5
}
